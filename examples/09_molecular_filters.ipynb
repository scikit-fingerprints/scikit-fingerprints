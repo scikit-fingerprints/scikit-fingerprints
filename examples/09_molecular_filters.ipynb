{
 "cells": [
  {
   "cell_type": "markdown",
   "id": "dce99f55",
   "metadata": {},
   "source": [
    "# Molecular filters"
   ]
  },
  {
   "cell_type": "markdown",
   "id": "9ef0cf7f",
   "metadata": {},
   "source": [
    "Molecular filters are predefined sets of conditions, used to remove unwanted molecules, e.g. too large ones. scikit-fingerprints implements many molecular filters, designed for different applications.\n",
    "\n",
    "They are generally divided into two types, depending on what they use for defining filter conditions:\n",
    "1. **Physicochemical properties** - define allowed numerical ranges of properties like molecular weight, formal charge, or number of rings. A molecule fulfills the filter condition and is kept if all its properties are contained in those ranges.\n",
    "2. **Molecular substructures** - define unwanted substructures, functional groups, toxicity-inducing patterns etc. A molecule fulfills the filter condition and is kept if it does not contain any of the substructures.\n",
    "\n",
    "Physicochemical properties filters can therefore be thought of as \"inclusion\" filters, and substructure filters as \"exclusion\" filters.\n",
    "\n",
    "Let's see some examples of both."
   ]
  },
  {
   "cell_type": "markdown",
   "id": "0b23e770",
   "metadata": {},
   "source": [
    "## Physicochemical filters"
   ]
  },
  {
   "cell_type": "markdown",
   "id": "e2526029",
   "metadata": {},
   "source": [
    "Let's see a few examples of physicochemical filters:\n",
    "\n",
    "1. **Molecular weight** ([docs](https://scikit-fingerprints.github.io/scikit-fingerprints/modules/generated/skfp.filters.MolecularWeightFilter.html#skfp.filters.MolecularWeightFilter)):\n",
    "   - simply checks if a total molecular mass is inside a given range\n",
    "   - by default, the range is $[0, 1000]$, corresponding roughly to most small molecules\n",
    "2. **Lipinski Rule of 5** ([docs](https://scikit-fingerprints.github.io/scikit-fingerprints/modules/generated/skfp.filters.LipinskiFilter.html#skfp.filters.LipinskiFilter)):\n",
    "   - one of the most famous molecular filters, checking for oral bioavailability\n",
    "   - tries to select molecules that are small and lipophilic\n",
    "   - by default, allows breaking one rule\n",
    "   - molecular weight $\\leq 500$\n",
    "   - number of hydrogen bond acceptors (HBA) $\\leq 10$\n",
    "   - number of hydrogen bond donors (HBD) $\\leq 5$\n",
    "   - logP $\\leq 5$\n",
    "3. **Beyond Rule of 5** ([docs](https://scikit-fingerprints.github.io/scikit-fingerprints/modules/generated/skfp.filters.BeyondRo5Filter.html#skfp.filters.BeyondRo5Filter)):\n",
    "   - designed to cover novel orally bioavailable drugs\n",
    "   - less strict than Lipinski filter\n",
    "   - molecular weight $\\leq 1000$\n",
    "   - logP in range $[−2, 10]$\n",
    "   - HBA $\\leq 15$\n",
    "   - HBD $\\leq 6$\n",
    "   - topological polar surface area (TPSA) $\\leq 250$\n",
    "   - number of rotatable bonds $\\leq 20$\n",
    "4. **Rule of 3** ([docs](https://scikit-fingerprints.github.io/scikit-fingerprints/modules/generated/skfp.filters.RuleOfThreeFilter.html#skfp.filters.RuleOfThreeFilter)):\n",
    "   - optimised to search for fragment-based lead-like compounds with desired properties\n",
    "   - there is also an extended rule, including TPSA and rotatable bonds conditions\n",
    "   - molecular weight $\\leq 300$\n",
    "   - HBA $\\leq 3$\n",
    "   - HBD $\\leq 3$\n",
    "   - logP $\\leq 3$\n",
    "   - extended rules: TPSA $\\leq 60$, number of rotatable bonds $\\leq 3$\n",
    "\n",
    "All filters include the `allow_one_violation` argument. If True, molecules still pass the filter even if one of their physicochemical properties falls outside the defined range. Vast majority of filters have default value False for this parameter, except for Lipinski filter."
   ]
  },
  {
   "cell_type": "code",
   "execution_count": 1,
   "id": "116b5e59",
   "metadata": {},
   "outputs": [
    {
     "name": "stderr",
     "output_type": "stream",
     "text": [
      "<frozen importlib._bootstrap>:241: RuntimeWarning: to-Python converter for boost::shared_ptr<RDKit::FilterHierarchyMatcher> already registered; second conversion method ignored.\n",
      "<frozen importlib._bootstrap>:241: RuntimeWarning: to-Python converter for boost::shared_ptr<RDKit::FilterCatalogEntry> already registered; second conversion method ignored.\n"
     ]
    }
   ],
   "source": [
    "import pandas as pd\n",
    "from rdkit import Chem\n",
    "\n",
    "from skfp.filters import (\n",
    "    BeyondRo5Filter,\n",
    "    LipinskiFilter,\n",
    "    MolecularWeightFilter,\n",
    "    RuleOfThreeFilter,\n",
    ")"
   ]
  },
  {
   "cell_type": "markdown",
   "id": "7cd0123e",
   "metadata": {},
   "source": [
    "For starters, let us prepare some example data."
   ]
  },
  {
   "cell_type": "code",
   "execution_count": 5,
   "id": "0f8eefe0",
   "metadata": {},
   "outputs": [],
   "source": [
    "smiles = [\n",
    "    \"CC(=O)OC1=CC=CC=C1C(=O)O\",  # Aspirin\n",
    "    \"CN1C=NC2=C1C(=O)N(C(=O)N2C)C\",  # Caffeine\n",
    "    \"CC(C)CC1=CC=C(C=C1)C(C)C(=O)\",  # Ibuprofen\n",
    "    \"C[C@H](CCC(=O)O)CC1=CC=CC=C1\",  # Cholesterol\n",
    "]"
   ]
  },
  {
   "cell_type": "code",
   "execution_count": 6,
   "id": "3137351a",
   "metadata": {},
   "outputs": [],
   "source": [
    "mw_filter = MolecularWeightFilter()\n",
    "lipinski_filter = LipinskiFilter()\n",
    "beyond_ro5_filter = BeyondRo5Filter()\n",
    "ro3_filter = RuleOfThreeFilter()"
   ]
  },
  {
   "cell_type": "code",
   "execution_count": 7,
   "id": "ab862891",
   "metadata": {},
   "outputs": [
    {
     "data": {
      "text/plain": [
       "['CC(=O)OC1=CC=CC=C1C(=O)O',\n",
       " 'CN1C=NC2=C1C(=O)N(C(=O)N2C)C',\n",
       " 'CC(C)CC1=CC=C(C=C1)C(C)C(=O)',\n",
       " 'C[C@H](CCC(=O)O)CC1=CC=CC=C1']"
      ]
     },
     "execution_count": 7,
     "metadata": {},
     "output_type": "execute_result"
    }
   ],
   "source": [
    "mw_filtered_smiles = mw_filter.transform(smiles)\n",
    "mw_filtered_smiles"
   ]
  },
  {
   "cell_type": "code",
   "execution_count": 8,
   "id": "93f94568",
   "metadata": {},
   "outputs": [
    {
     "data": {
      "text/plain": [
       "['CC(=O)OC1=CC=CC=C1C(=O)O',\n",
       " 'CN1C=NC2=C1C(=O)N(C(=O)N2C)C',\n",
       " 'CC(C)CC1=CC=C(C=C1)C(C)C(=O)',\n",
       " 'C[C@H](CCC(=O)O)CC1=CC=CC=C1']"
      ]
     },
     "execution_count": 8,
     "metadata": {},
     "output_type": "execute_result"
    }
   ],
   "source": [
    "lipinski_filtered_smiles = lipinski_filter.transform(smiles)\n",
    "lipinski_filtered_smiles"
   ]
  },
  {
   "cell_type": "code",
   "execution_count": 9,
   "id": "cab9fc95",
   "metadata": {},
   "outputs": [
    {
     "data": {
      "text/plain": [
       "['CC(=O)OC1=CC=CC=C1C(=O)O',\n",
       " 'CN1C=NC2=C1C(=O)N(C(=O)N2C)C',\n",
       " 'CC(C)CC1=CC=C(C=C1)C(C)C(=O)',\n",
       " 'C[C@H](CCC(=O)O)CC1=CC=CC=C1']"
      ]
     },
     "execution_count": 9,
     "metadata": {},
     "output_type": "execute_result"
    }
   ],
   "source": [
    "beyond_ro5_filtered_smiles = beyond_ro5_filter.transform(smiles)\n",
    "beyond_ro5_filtered_smiles"
   ]
  },
  {
   "cell_type": "code",
   "execution_count": 10,
   "id": "19a21c0e",
   "metadata": {},
   "outputs": [
    {
     "data": {
      "text/plain": [
       "['CC(=O)OC1=CC=CC=C1C(=O)O', 'C[C@H](CCC(=O)O)CC1=CC=CC=C1']"
      ]
     },
     "execution_count": 10,
     "metadata": {},
     "output_type": "execute_result"
    }
   ],
   "source": [
    "ro3_filtered_smiles = ro3_filter.transform(smiles)\n",
    "ro3_filtered_smiles"
   ]
  },
  {
   "cell_type": "markdown",
   "id": "9626c9b6",
   "metadata": {},
   "source": [
    "By default, filters return a subset of molecules. Alternatively, by setting `return_indicators=True`, they can return a vector of booleans, with True value corresponding to molecules fulfilling the filter rules. This allows more sophisticated analyzes of results, e.g. by saving the results in a dataframe."
   ]
  },
  {
   "cell_type": "code",
   "execution_count": 14,
   "id": "02a47287",
   "metadata": {},
   "outputs": [],
   "source": [
    "mw_mask = MolecularWeightFilter(return_indicators=True)\n",
    "lipinski_mask = LipinskiFilter(return_indicators=True)\n",
    "beyond_ro5_mask = BeyondRo5Filter(return_indicators=True)\n",
    "ro3_mask = RuleOfThreeFilter(return_indicators=True)"
   ]
  },
  {
   "cell_type": "code",
   "execution_count": 15,
   "id": "4d53f1e4",
   "metadata": {},
   "outputs": [],
   "source": [
    "data = [\n",
    "    {\"name\": \"Aspirin\", \"smiles\": \"CC(=O)OC1=CC=CC=C1C(=O)O\"},\n",
    "    {\"name\": \"Caffeine\", \"smiles\": \"CN1C=NC2=C1C(=O)N(C(=O)N2C)C\"},\n",
    "    {\"name\": \"Ibuprofen\", \"smiles\": \"CC(C)CC1=CC=C(C=C1)C(C)C(=O)O\"},\n",
    "    {\"name\": \"Cholesterol\", \"smiles\": \"C[C@H](CCC(=O)O)CC1=CC=CC=C1\"},\n",
    "    {\"name\": \"Glucose\", \"smiles\": \"C(C1C(C(C(C(O1)O)O)O)O)O\"},\n",
    "]\n",
    "\n",
    "df = pd.DataFrame(data)"
   ]
  },
  {
   "cell_type": "code",
   "execution_count": 16,
   "id": "307f6e05",
   "metadata": {},
   "outputs": [],
   "source": [
    "df[\"mw_filter_pass\"] = mw_mask.transform(df[\"smiles\"])\n",
    "df[\"lipinski_filter_pass\"] = lipinski_mask.transform(df[\"smiles\"])\n",
    "df[\"beyond_rule_of_5_pass\"] = beyond_ro5_mask.transform(df[\"smiles\"])\n",
    "df[\"rule_of_3_pass\"] = ro3_mask.transform(df[\"smiles\"])"
   ]
  },
  {
   "cell_type": "code",
   "execution_count": 17,
   "id": "11970880",
   "metadata": {},
   "outputs": [
    {
     "data": {
      "text/html": [
       "<div>\n",
       "<style scoped>\n",
       "    .dataframe tbody tr th:only-of-type {\n",
       "        vertical-align: middle;\n",
       "    }\n",
       "\n",
       "    .dataframe tbody tr th {\n",
       "        vertical-align: top;\n",
       "    }\n",
       "\n",
       "    .dataframe thead th {\n",
       "        text-align: right;\n",
       "    }\n",
       "</style>\n",
       "<table border=\"1\" class=\"dataframe\">\n",
       "  <thead>\n",
       "    <tr style=\"text-align: right;\">\n",
       "      <th></th>\n",
       "      <th>name</th>\n",
       "      <th>smiles</th>\n",
       "      <th>mw_filter_pass</th>\n",
       "      <th>lipinski_filter_pass</th>\n",
       "      <th>beyond_rule_of_5_pass</th>\n",
       "      <th>rule_of_3_pass</th>\n",
       "    </tr>\n",
       "  </thead>\n",
       "  <tbody>\n",
       "    <tr>\n",
       "      <th>0</th>\n",
       "      <td>Aspirin</td>\n",
       "      <td>CC(=O)OC1=CC=CC=C1C(=O)O</td>\n",
       "      <td>True</td>\n",
       "      <td>True</td>\n",
       "      <td>True</td>\n",
       "      <td>True</td>\n",
       "    </tr>\n",
       "    <tr>\n",
       "      <th>1</th>\n",
       "      <td>Caffeine</td>\n",
       "      <td>CN1C=NC2=C1C(=O)N(C(=O)N2C)C</td>\n",
       "      <td>True</td>\n",
       "      <td>True</td>\n",
       "      <td>True</td>\n",
       "      <td>False</td>\n",
       "    </tr>\n",
       "    <tr>\n",
       "      <th>2</th>\n",
       "      <td>Ibuprofen</td>\n",
       "      <td>CC(C)CC1=CC=C(C=C1)C(C)C(=O)O</td>\n",
       "      <td>True</td>\n",
       "      <td>True</td>\n",
       "      <td>True</td>\n",
       "      <td>False</td>\n",
       "    </tr>\n",
       "    <tr>\n",
       "      <th>3</th>\n",
       "      <td>Cholesterol</td>\n",
       "      <td>C[C@H](CCC(=O)O)CC1=CC=CC=C1</td>\n",
       "      <td>True</td>\n",
       "      <td>True</td>\n",
       "      <td>True</td>\n",
       "      <td>True</td>\n",
       "    </tr>\n",
       "    <tr>\n",
       "      <th>4</th>\n",
       "      <td>Glucose</td>\n",
       "      <td>C(C1C(C(C(C(O1)O)O)O)O)O</td>\n",
       "      <td>True</td>\n",
       "      <td>True</td>\n",
       "      <td>False</td>\n",
       "      <td>False</td>\n",
       "    </tr>\n",
       "  </tbody>\n",
       "</table>\n",
       "</div>"
      ],
      "text/plain": [
       "          name                         smiles  mw_filter_pass  \\\n",
       "0      Aspirin       CC(=O)OC1=CC=CC=C1C(=O)O            True   \n",
       "1     Caffeine   CN1C=NC2=C1C(=O)N(C(=O)N2C)C            True   \n",
       "2    Ibuprofen  CC(C)CC1=CC=C(C=C1)C(C)C(=O)O            True   \n",
       "3  Cholesterol   C[C@H](CCC(=O)O)CC1=CC=CC=C1            True   \n",
       "4      Glucose       C(C1C(C(C(C(O1)O)O)O)O)O            True   \n",
       "\n",
       "   lipinski_filter_pass  beyond_rule_of_5_pass  rule_of_3_pass  \n",
       "0                  True                   True            True  \n",
       "1                  True                   True           False  \n",
       "2                  True                   True           False  \n",
       "3                  True                   True            True  \n",
       "4                  True                  False           False  "
      ]
     },
     "execution_count": 17,
     "metadata": {},
     "output_type": "execute_result"
    }
   ],
   "source": [
    "df"
   ]
  },
  {
   "cell_type": "markdown",
   "id": "f24f3503",
   "metadata": {},
   "source": [
    "## Substructural filters"
   ]
  },
  {
   "cell_type": "markdown",
   "id": "a581bb4f-ba1e-4d96-afcc-c219afd442ac",
   "metadata": {},
   "source": [
    "Substructural filters use sets of SMARTS patterns to define unwanted substructures. An example is Brenk filter ([docs](https://scikit-fingerprints.github.io/scikit-fingerprints/modules/generated/skfp.filters.BrenkFilter.html)), designed to filter out molecules containing substructures with undesirable pharmacokinetics or toxicity, e.g. sulfates, phosphates, nitro groups. Other filters from this group often work based on similar principles, but differing in how aggressively they filter the molecules."
   ]
  },
  {
   "cell_type": "code",
   "execution_count": 84,
   "id": "b0285ab1",
   "metadata": {
    "scrolled": true
   },
   "outputs": [
    {
     "data": {
      "text/plain": [
       "['description', 'FilterSet', 'Reference', 'Scope']"
      ]
     },
     "execution_count": 84,
     "metadata": {},
     "output_type": "execute_result"
    }
   ],
   "source": [
    "from skfp.filters import BrenkFilter\n",
    "\n",
    "brenk_filter = BrenkFilter()"
   ]
  },
  {
   "cell_type": "markdown",
   "id": "9af3ce4f",
   "metadata": {},
   "source": [
    "Patterns are saved in `._filters` attribute of the filter object. They are represented using RDKit `FilterCatalog` objects, which are quite efficient in checking the patterns, but make it challenging to inspect SMARTS patterns from Python. The first few patterns from BRENK and their meanings are:"
   ]
  },
  {
   "cell_type": "code",
   "execution_count": 85,
   "id": "cb3e567a",
   "metadata": {},
   "outputs": [],
   "source": [
    "patterns = [\n",
    "    (\">_2_ester_groups\", \"C(=O)O[C,H1].C(=O)O[C,H1].C(=O)O[C,H1]\"),\n",
    "    (\"2-halo_pyridine\", \"n1c([F,Cl,Br,I])cccc1\"),\n",
    "    (\"acid_halide\", \"C(=O)[Cl,Br,I,F]\"),\n",
    "    (\"acyclic_C=C-O\", \"C=[C!r]O\"),\n",
    "    (\"acyl_cyanide\", \"N#CC(=O)\"),\n",
    "    (\"acyl_hydrazine\", \"C(=O)N[NH2]\"),\n",
    "    (\"aldehyde\", \"[CH1](=O)\"),\n",
    "    (\"Aliphatic_long_chain\", \"[R0;D2][R0;D2][R0;D2][R0;D2]\"),\n",
    "]"
   ]
  },
  {
   "cell_type": "code",
   "execution_count": 86,
   "id": "742259d1",
   "metadata": {},
   "outputs": [
    {
     "data": {
      "image/png": "[encoded data removed]",
      "text/plain": [
       "<IPython.core.display.Image object>"
      ]
     },
     "execution_count": 86,
     "metadata": {},
     "output_type": "execute_result"
    }
   ],
   "source": [
    "from rdkit.Chem import Draw\n",
    "\n",
    "mols = []\n",
    "titles = []\n",
    "\n",
    "for name, smarts in patterns:\n",
    "    mol = Chem.MolFromSmarts(smarts)\n",
    "    if mol is not None:\n",
    "        mols.append(mol)\n",
    "        titles.append(name)\n",
    "\n",
    "img = Draw.MolsToGridImage(mols, legends=titles, molsPerRow=4, subImgSize=(300, 300))\n",
    "img"
   ]
  },
  {
   "cell_type": "markdown",
   "id": "6300c985",
   "metadata": {},
   "source": [
    "Let's focus on aldehydes. One of the simplest aldehydes is acrolein. Let's see its structural formula."
   ]
  },
  {
   "cell_type": "code",
   "execution_count": 100,
   "id": "34577b50",
   "metadata": {},
   "outputs": [
    {
     "data": {
      "image/jpeg": "[encoded data removed]",
      "image/png": "[encoded data removed]",
      "text/plain": [
       "<PIL.PngImagePlugin.PngImageFile image mode=RGB size=300x300>"
      ]
     },
     "execution_count": 100,
     "metadata": {},
     "output_type": "execute_result"
    }
   ],
   "source": [
    "acrolein_smiles = \"C=CC=O\"\n",
    "\n",
    "mol = Chem.MolFromSmiles(acrolein_smiles)\n",
    "img = Draw.MolToImage(mol, size=(300, 300))\n",
    "img"
   ]
  },
  {
   "cell_type": "markdown",
   "id": "0595bcc1",
   "metadata": {},
   "source": [
    "Obviously, it has a carbonyl group, which is characteristic of aldehydes. Thus, it should be filtered out by the Brenk filter."
   ]
  },
  {
   "cell_type": "code",
   "execution_count": 101,
   "id": "c4618f55",
   "metadata": {},
   "outputs": [
    {
     "data": {
      "text/plain": [
       "[]"
      ]
     },
     "execution_count": 101,
     "metadata": {},
     "output_type": "execute_result"
    }
   ],
   "source": [
    "brenk_filter = BrenkFilter()\n",
    "smiles = [acrolein_smiles]\n",
    "\n",
    "filtered_smiles = brenk_filter.fit_transform(smiles)\n",
    "filtered_smiles"
   ]
  },
  {
   "cell_type": "markdown",
   "id": "cd31b11e",
   "metadata": {},
   "source": [
    "## Custom filters"
   ]
  },
  {
   "cell_type": "markdown",
   "id": "491229de",
   "metadata": {},
   "source": [
    "By inheriting from `BaseFilter`, you can create your own molecular filters. The main element is the `_apply_mol_filter` method, which should return True if a molecule fulfills the filter rules and should be kept, or False otherwise.\n",
    "\n",
    "Let's create a simple physicochemical filter, which will keep molecules below `max_weight` and having at most `num_heavy_atoms` heavy atoms. This is a slightly simplified example, without fully-featured parameter validation - see [scikit-learn code](https://github.com/scikit-learn/scikit-learn/blob/687e84a126965b4179b02d86041a9e997eba87c9/sklearn/utils/_param_validation.py#L27) if you want to learn more about that.\n",
    "\n",
    "Further, all filters have arguments:\n",
    "- `allow_one_violation` - if you want to tolerate a single violation\n",
    "- `return_indicators` - whether to return molecules or a boolean mask\n",
    "- `n_jobs` - how many processes to use for filtering in parallel\n",
    "- `batch_size` - for finer control over batch size for parallelism\n",
    "- `verbose` - controls verbosity of TQDM progress bar\n",
    "\n",
    "You can omit those arguments, but it will also disable some of the functionalities that you can expect from scikit-fingerprints filters."
   ]
  },
  {
   "cell_type": "code",
   "execution_count": 100,
   "id": "ca686a6e",
   "metadata": {},
   "outputs": [],
   "source": [
    "from rdkit.Chem import Mol\n",
    "from rdkit.Chem.Descriptors import MolWt\n",
    "from rdkit.Chem.rdMolDescriptors import CalcNumHeavyAtoms\n",
    "\n",
    "from skfp.bases.base_filter import BaseFilter\n",
    "\n",
    "\n",
    "class CustomMolecularFilter(BaseFilter):\n",
    "    def __init__(\n",
    "        self,\n",
    "        max_weight: int = 250,\n",
    "        num_heavy_atoms: int = 50,\n",
    "        allow_one_violation: bool = False,\n",
    "        return_indicators: bool = False,\n",
    "        n_jobs: int | None = None,\n",
    "        batch_size: int | None = None,\n",
    "        verbose: int | dict = 0,\n",
    "    ):\n",
    "        super().__init__(\n",
    "            allow_one_violation=allow_one_violation,\n",
    "            return_indicators=return_indicators,\n",
    "            n_jobs=n_jobs,\n",
    "            batch_size=batch_size,\n",
    "            verbose=verbose,\n",
    "        )\n",
    "        # create attributes from custom parameters\n",
    "        self.max_weight = max_weight\n",
    "        self.num_heavy_atoms = num_heavy_atoms\n",
    "\n",
    "    def _apply_mol_filter(self, mol: Mol) -> bool:\n",
    "        # define the filter rules and check them\n",
    "        rules = [\n",
    "            MolWt(mol) <= self.max_weight,\n",
    "            CalcNumHeavyAtoms(mol) <= self.num_heavy_atoms,\n",
    "        ]\n",
    "\n",
    "        # calculate how many rules have passed\n",
    "        passed_rules = sum(rules)\n",
    "\n",
    "        # check final filter status\n",
    "        if self.allow_one_violation:\n",
    "            return passed_rules >= len(rules) - 1\n",
    "        else:\n",
    "            return passed_rules == len(rules)"
   ]
  },
  {
   "cell_type": "code",
   "execution_count": 101,
   "id": "d15cbb5d",
   "metadata": {},
   "outputs": [],
   "source": [
    "smiles = [\n",
    "    \"CC(=O)OC1=CC=CC=C1C(=O)O\",  # Aspirin\n",
    "    \"CN1C=NC2=C1C(=O)N(C(=O)N2C)C\",  # Caffeine\n",
    "    \"CC(C)CC1=CC=C(C=C1)C(C)C(=O)\",  # Ibuprofen\n",
    "    \"C[C@H](CCC(=O)O)CC1=CC=CC=C1\",  # Cholesterol\n",
    "]"
   ]
  },
  {
   "cell_type": "code",
   "execution_count": 102,
   "id": "797419f7",
   "metadata": {},
   "outputs": [],
   "source": [
    "custom_filter = CustomMolecularFilter(verbose=True)"
   ]
  },
  {
   "cell_type": "code",
   "execution_count": 103,
   "id": "f62e82a4",
   "metadata": {},
   "outputs": [
    {
     "name": "stderr",
     "output_type": "stream",
     "text": [
      "100%|██████████████████████████████████████████████████████████████████████████████████████████████████████████████████████████| 4/4 [00:00<00:00, 22919.69it/s]\n"
     ]
    },
    {
     "data": {
      "text/plain": [
       "['CC(=O)OC1=CC=CC=C1C(=O)O',\n",
       " 'CN1C=NC2=C1C(=O)N(C(=O)N2C)C',\n",
       " 'CC(C)CC1=CC=C(C=C1)C(C)C(=O)',\n",
       " 'C[C@H](CCC(=O)O)CC1=CC=CC=C1']"
      ]
     },
     "execution_count": 103,
     "metadata": {},
     "output_type": "execute_result"
    }
   ],
   "source": [
    "custom_filtered_smiles = custom_filter.fit_transform(smiles)\n",
    "custom_filtered_smiles"
   ]
  },
  {
   "cell_type": "code",
   "execution_count": null,
   "id": "b81368ee-af91-4472-a9fe-12e0a76e4e12",
   "metadata": {},
   "outputs": [],
   "source": []
  }
 ],
 "metadata": {
  "kernelspec": {
   "display_name": "Python 3",
   "language": "python",
   "name": "python3"
  },
  "language_info": {
   "codemirror_mode": {
    "name": "ipython",
    "version": 3
   },
   "file_extension": ".py",
   "mimetype": "text/x-python",
   "name": "python",
   "nbconvert_exporter": "python",
   "pygments_lexer": "ipython3",
   "version": "3.11.4"
  }
 },
 "nbformat": 4,
 "nbformat_minor": 5
}
