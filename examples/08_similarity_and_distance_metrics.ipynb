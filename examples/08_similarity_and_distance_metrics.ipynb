{
 "cells": [
  {
   "cell_type": "markdown",
   "metadata": {
    "id": "BbzeeN90YCWQ"
   },
   "source": [
    "## Similarity and distance metrics"
   ]
  },
  {
   "cell_type": "markdown",
   "metadata": {
    "id": "335kCek2YCWR"
   },
   "source": [
    "scikit-fingerprints offers plenty of ways to measure similarity between molecules."
   ]
  },
  {
   "cell_type": "markdown",
   "metadata": {
    "id": "3foPcTz1YCWS"
   },
   "source": [
    "In general, we can divide similarity metrics into two groups:\n",
    " - those working on the vectorized molecules, which can be further divided based on the type of input:\n",
    "     - binary data,\n",
    "     - count (non-binary) data.\n",
    " - those working on RDKit's ``Mol`` objects.\n",
    "\n",
    "Additionally, every metric is also implemented in a bulk form, allowing matrices to be passed as input.\n",
    "Every similarity has its corresponding distance, which is usually equal to $1 - similarity$. \n",
    "However, there are some exceptions (see next section)."
   ]
  },
  {
   "cell_type": "markdown",
   "metadata": {},
   "source": [
    "# Metrics overview"
   ]
  },
  {
   "cell_type": "markdown",
   "metadata": {},
   "source": [
    "Scikit-Fingerprints currently supports 14 different metrics."
   ]
  },
  {
   "cell_type": "markdown",
   "metadata": {},
   "source": [
    "Vector-based methods can be split into two groups. The first considers only 'on' bits (1s in vector representation), and the second also takes 'off' bits (0s in vector representation) into consideration.\n",
    "\n",
    "Keep in mind that metrics use a slightly different naming convention. If a similarity function takes arguments\n",
    "$x$ and $y$, then inside the formula:\n",
    "\n",
    "  - $a$ – $|x \\cap y|$, the number of common \"on\" bits\n",
    "  - $b$ – the number of positions where $x$ is 1 and $y$ is 0\n",
    "  - $c$ – the number of positions where $x$ is 0 and $y$ is 1\n",
    "  - $d$ – the number of positions where both are 0\n",
    "\n",
    "Let's see a couple of examples.\n",
    "\n",
    "**Both \"on\" and \"off\" bits**:\n",
    "\n",
    " - [Rogot-Goldberg](https://doi.org/10.1016/0021-9681(66)90032-4): \n",
    "   - binary: $sim(x, y) = \\frac{a}{2 * (2a + b + c)} + \\frac{d}{2 * (2d + b + c)}$,\n",
    "   - values in range $(0, 1)$,\n",
    "\n",
    " - [Tanimoto](https://jcheminf.biomedcentral.com/articles/10.1186/s13321-015-0069-3):\n",
    "   - binary: $sim(a, b) = \\frac{|a \\cap b|}{|a \\cup b|} = \\frac{|a \\cap b|}{|a| + |b| - |a \\cap b|}$\n",
    "   - count: $sim(a, b) = \\frac{a \\cdot b}{\\|a\\|^2 + \\|b\\|^2 - a \\cdot b}$,\n",
    "   - values in range $(0, 1)$,\n",
    "\n",
    "**Only \"on\" bits**:\n",
    "\n",
    " - [Rand](https://www.tandfonline.com/doi/abs/10.1080/01621459.1971.10482356):\n",
    "   - binary: $sim(a, b) = \\frac{|a \\cap b|}{n}$,\n",
    "   - values in range $(0, 1)$,\n",
    "\n",
    " - [Russell](https://www.cabidigitallibrary.org/doi/full/10.5555/19412900343):\n",
    "   - binary: $sim(x, y) = \\frac{a}{n}$,\n",
    "   - values in range $(0, 1)$,\n"
   ]
  },
  {
   "cell_type": "markdown",
   "metadata": {},
   "source": [
    "**Operating on mols**:\n",
    "\n",
    " - [Fraggle](https://raw.github.com/rdkit/UGM_2013/master/Presentations/Hussain.Fraggle.pdf):\n",
    "   - uses fragmentation algorithm (ring cut in this case) to split the **query molecule** at acyclic and ring bonds,\n",
    "   - fragments are compared to the **reference molecule** using [Tversky similarity](https://en.wikipedia.org/wiki/Tversky_index) (α=0.95,\n",
    "    β=0.05),\n",
    "   - fragments with **Tversky similarity** above defined threshold are used for calculating Tanimoto similarity with reference molecule,\n",
    "   - values in range $(0, 1)$\n",
    " - [MCS](https://doi.org/10.1007/s10822-015-9872-1) (Maximum Common Similarity):\n",
    "   - uses [FMCS algorithm](https://doi.org/10.1186/1758-2946-5-S1-O6) to measure overlap of two molecules,\n",
    "   - penalizes difference in number of atoms between molecules,\n",
    "   - $sim(mol_a, mol_b) = \\frac{numAtoms(MCS(mol_a, mol_b))}{numAtoms(mol_a) + numAtoms(mol_b) - numAtoms(MCS(mol_a, mol_b))}$\n",
    "   - values in range $(0, 1)$"
   ]
  },
  {
   "cell_type": "markdown",
   "metadata": {
    "id": "TK4EsPk0YCWS"
   },
   "source": [
    "In this tutorial, we'll use Tanimoto and Fraggle metrics as examples."
   ]
  },
  {
   "cell_type": "markdown",
   "metadata": {
    "id": "qTHTNRQTYCWS"
   },
   "source": [
    "## Binary similarity"
   ]
  },
  {
   "cell_type": "markdown",
   "metadata": {
    "id": "cUo6lY2nYCWS"
   },
   "source": [
    "We can pass the input data as either numpy  or csr sparse arrays"
   ]
  },
  {
   "cell_type": "code",
   "execution_count": 40,
   "metadata": {
    "id": "9R7j30tJYCWT"
   },
   "outputs": [],
   "source": [
    "import numpy as np\n",
    "from scipy.sparse import csr_array\n",
    "\n",
    "vec_a = [1, 0, 0]\n",
    "vec_b = [0, 1, 1]\n",
    "\n",
    "vec_a_numpy = np.array(vec_a)\n",
    "vec_b_numpy = np.array(vec_b)\n",
    "\n",
    "vec_a_sparse = csr_array([vec_a])\n",
    "vec_b_sparse = csr_array([vec_b])"
   ]
  },
  {
   "cell_type": "markdown",
   "metadata": {},
   "source": [
    "The distance function will yield the same result, no matter the format"
   ]
  },
  {
   "cell_type": "code",
   "execution_count": 41,
   "metadata": {
    "id": "SOdaBTHFYCWU"
   },
   "outputs": [],
   "source": [
    "from skfp.distances.tanimoto import tanimoto_binary_distance, tanimoto_binary_similarity\n",
    "\n",
    "binary_sim_numpy = tanimoto_binary_similarity(vec_a_numpy, vec_b_numpy)\n",
    "binary_dist_numpy = tanimoto_binary_distance(vec_a_numpy, vec_b_numpy)\n",
    "\n",
    "binary_sim_sparse = tanimoto_binary_similarity(vec_a_sparse, vec_b_sparse)\n",
    "binary_dist_sparse = tanimoto_binary_distance(vec_a_sparse, vec_b_sparse)"
   ]
  },
  {
   "cell_type": "code",
   "execution_count": 45,
   "metadata": {
    "id": "bFd5FjwEYCWU"
   },
   "outputs": [],
   "source": [
    "# ruff: noqa: S101\n",
    "assert binary_sim_numpy == binary_sim_sparse == 0"
   ]
  },
  {
   "cell_type": "code",
   "execution_count": 47,
   "metadata": {
    "id": "dUiqmUI7YCWU"
   },
   "outputs": [],
   "source": [
    "assert binary_dist_numpy == binary_dist_sparse == 1"
   ]
  },
  {
   "cell_type": "code",
   "execution_count": 48,
   "metadata": {
    "id": "0XfoB7HpYCWU"
   },
   "outputs": [],
   "source": [
    "assert binary_dist_numpy == 1 - binary_sim_numpy\n",
    "assert binary_dist_sparse == 1 - binary_sim_sparse"
   ]
  },
  {
   "cell_type": "markdown",
   "metadata": {
    "id": "zxtlkrdlYCWU"
   },
   "source": [
    "## Count similarity"
   ]
  },
  {
   "cell_type": "markdown",
   "metadata": {},
   "source": [
    "Count variants work exactly the same way as binary ones."
   ]
  },
  {
   "cell_type": "code",
   "execution_count": 49,
   "metadata": {
    "id": "-BLsDSKCYCWV"
   },
   "outputs": [],
   "source": [
    "import numpy as np\n",
    "from scipy.sparse import csr_array\n",
    "\n",
    "from skfp.distances.tanimoto import tanimoto_count_distance, tanimoto_count_similarity\n",
    "\n",
    "vec_a = [2, 3, 4, 0]\n",
    "vec_b = [2, 3, 4, 2]\n",
    "\n",
    "vec_a_numpy = np.array(vec_a)\n",
    "vec_b_numpy = np.array(vec_b)\n",
    "\n",
    "vec_a_sparse = csr_array([vec_a])\n",
    "vec_b_sparse = csr_array([vec_b])"
   ]
  },
  {
   "cell_type": "code",
   "execution_count": 50,
   "metadata": {
    "id": "OXHPqhSKYCWV"
   },
   "outputs": [],
   "source": [
    "count_sim_numpy = tanimoto_count_similarity(vec_a_numpy, vec_b_numpy)\n",
    "count_dist_numpy = tanimoto_count_distance(vec_a_numpy, vec_b_numpy)\n",
    "\n",
    "count_sim_sparse = tanimoto_count_similarity(vec_a_sparse, vec_b_sparse)\n",
    "count_dist_sparse = tanimoto_count_distance(vec_a_sparse, vec_b_sparse)"
   ]
  },
  {
   "cell_type": "code",
   "execution_count": 51,
   "metadata": {
    "id": "z5rOV0rOYCWV"
   },
   "outputs": [],
   "source": [
    "assert count_sim_numpy == count_sim_sparse == 0.8787878787878788"
   ]
  },
  {
   "cell_type": "code",
   "execution_count": 52,
   "metadata": {
    "id": "fzuli8pqYCWV"
   },
   "outputs": [],
   "source": [
    "assert count_dist_numpy == count_dist_sparse == 0.12121212121212122"
   ]
  },
  {
   "cell_type": "code",
   "execution_count": 53,
   "metadata": {
    "id": "YicTN5KbYCWV"
   },
   "outputs": [],
   "source": [
    "assert count_dist_numpy == 1 - count_sim_numpy\n",
    "assert count_dist_sparse == 1 - count_sim_sparse"
   ]
  },
  {
   "cell_type": "markdown",
   "metadata": {
    "id": "L-Cjf6qdYCWV"
   },
   "source": [
    "## Structural similarity"
   ]
  },
  {
   "cell_type": "markdown",
   "metadata": {},
   "source": [
    "In this case, we use RDKit's mols rather than vectorized data. First, prepare the query and reference molecules."
   ]
  },
  {
   "cell_type": "code",
   "execution_count": null,
   "metadata": {
    "id": "eURZtPeTYCWV"
   },
   "outputs": [],
   "source": [
    "from rdkit.Chem import MolFromSmiles\n",
    "\n",
    "mol_query = MolFromSmiles(\"COc1cc(CN2CCC(NC(=O)c3cncc(C)c3)CC2)c(OC)c2ccccc12\")\n",
    "mol_ref = MolFromSmiles(\"COc1ccccc1\")"
   ]
  },
  {
   "cell_type": "markdown",
   "metadata": {},
   "source": [
    "Let's call fraggle function. The default Tversky threshold is 0.8."
   ]
  },
  {
   "cell_type": "code",
   "execution_count": 13,
   "metadata": {
    "id": "X5VDP2qTYCWV"
   },
   "outputs": [],
   "source": [
    "from skfp.distances.fraggle import fraggle_distance, fraggle_similarity\n",
    "\n",
    "fraggle_sim = fraggle_similarity(mol_query, mol_ref)\n",
    "fraggle_dist = fraggle_distance(mol_query, mol_ref)"
   ]
  },
  {
   "cell_type": "markdown",
   "metadata": {},
   "source": [
    "Values fall within range $(0, 1)$, so we expect the distance to be $1 - similarity$."
   ]
  },
  {
   "cell_type": "code",
   "execution_count": 14,
   "metadata": {
    "id": "OQNn3USQYCWW"
   },
   "outputs": [],
   "source": [
    "assert fraggle_sim == 0.1640625\n",
    "assert fraggle_dist == 0.8359375\n",
    "assert fraggle_dist == 1 - fraggle_sim"
   ]
  },
  {
   "cell_type": "markdown",
   "metadata": {
    "id": "Shm5FyoRYCWW"
   },
   "source": [
    "## kNN"
   ]
  },
  {
   "cell_type": "markdown",
   "metadata": {
    "id": "bYj_wtiYj5MS"
   },
   "source": [
    "We aim to make SKFP fully compatible with Scikit-Learn. As such, you can use similarity metrics in your machine learning pipelines, for example, as a metric in the k-Nearest Neighbors algorithm."
   ]
  },
  {
   "cell_type": "markdown",
   "metadata": {},
   "source": [
    "Prepare the data and compute the distance using the SKFP function."
   ]
  },
  {
   "cell_type": "code",
   "execution_count": 55,
   "metadata": {},
   "outputs": [
    {
     "data": {
      "text/plain": [
       "0.6666666666666667"
      ]
     },
     "execution_count": 55,
     "metadata": {},
     "output_type": "execute_result"
    }
   ],
   "source": [
    "from sklearn.neighbors import NearestNeighbors\n",
    "\n",
    "vec_a = np.array([[0, 1, 0, 1]])\n",
    "vec_b = np.array([[0, 1, 1, 0]])\n",
    "skfp_dist = tanimoto_binary_distance(vec_a[0], vec_b[0])\n",
    "\n",
    "skfp_dist"
   ]
  },
  {
   "cell_type": "markdown",
   "metadata": {},
   "source": [
    "Now, let's compare the result with Scikit-Learn's kNN implementation utilizing the SKFP metric."
   ]
  },
  {
   "cell_type": "code",
   "execution_count": 58,
   "metadata": {
    "id": "dU1_4arDlidQ"
   },
   "outputs": [
    {
     "data": {
      "text/plain": [
       "array([[0.66666667]])"
      ]
     },
     "execution_count": 58,
     "metadata": {},
     "output_type": "execute_result"
    }
   ],
   "source": [
    "nn = NearestNeighbors(n_neighbors=1, metric=tanimoto_binary_distance)\n",
    "nn.fit(vec_a)\n",
    "distances, _ = nn.kneighbors(vec_b)\n",
    "\n",
    "distances"
   ]
  },
  {
   "cell_type": "markdown",
   "metadata": {},
   "source": [
    "NearestNeighbors returns a matrix, so we'll need to extract a single value for comparison."
   ]
  },
  {
   "cell_type": "code",
   "execution_count": 59,
   "metadata": {},
   "outputs": [],
   "source": [
    "sklearn_dist = distances[0][0]\n",
    "assert np.isclose(skfp_dist, sklearn_dist)"
   ]
  },
  {
   "cell_type": "markdown",
   "metadata": {
    "id": "L_QHvOIUYCWW"
   },
   "source": [
    "## Bulk variants"
   ]
  },
  {
   "cell_type": "markdown",
   "metadata": {
    "id": "ytahLYPpYCWW"
   },
   "source": [
    "If you need to quickly compute similarity or distance between many vectors, you may represent them as an array and pass it to **bulk** variant of a function. In the example below, the similarity is computed between i-th rows and j-th columns of both arrays.\n",
    "\n",
    "Keep in mind that bulk variants do not support sparse arrays, as they are not valid data type for Numba, which we use for accelerating the computations.\n",
    "\n",
    "Bulk variants are equivalent to scikit-learn's **pairwise distances**."
   ]
  },
  {
   "cell_type": "code",
   "execution_count": 16,
   "metadata": {
    "id": "fUtOB4EAYCWW"
   },
   "outputs": [],
   "source": [
    "X = np.array(\n",
    "    [\n",
    "        [1, 1, 1],\n",
    "        [0, 0, 1],\n",
    "        [1, 1, 1],\n",
    "    ]\n",
    ")\n",
    "\n",
    "Y = np.array(\n",
    "    [\n",
    "        [1, 0, 1],\n",
    "        [0, 1, 1],\n",
    "        [1, 1, 1],\n",
    "    ]\n",
    ")\n",
    "\n",
    "X_numpy = np.array(X)\n",
    "Y_numpy = np.array(Y)"
   ]
  },
  {
   "cell_type": "code",
   "execution_count": 17,
   "metadata": {
    "id": "g6JvBvgzYCWW"
   },
   "outputs": [],
   "source": [
    "from skfp.distances.tanimoto import (\n",
    "    bulk_tanimoto_binary_distance,\n",
    "    bulk_tanimoto_binary_similarity,\n",
    ")"
   ]
  },
  {
   "cell_type": "code",
   "execution_count": 18,
   "metadata": {
    "id": "ElBquJpaYCWX"
   },
   "outputs": [],
   "source": [
    "bulk_binary_sim_numpy = bulk_tanimoto_binary_similarity(X_numpy, Y_numpy)\n",
    "bulk_binary_dist_numpy = bulk_tanimoto_binary_distance(X_numpy, Y_numpy)"
   ]
  },
  {
   "cell_type": "code",
   "execution_count": 19,
   "metadata": {
    "colab": {
     "base_uri": "https://localhost:8080/"
    },
    "id": "_fzRu1LdcABo",
    "outputId": "41a02ee2-01ee-4173-9a9d-a5a8b6012e3a"
   },
   "outputs": [
    {
     "data": {
      "text/plain": [
       "array([[0.66666667, 0.66666667, 1.        ],\n",
       "       [0.5       , 0.5       , 0.33333333],\n",
       "       [0.66666667, 0.66666667, 1.        ]])"
      ]
     },
     "execution_count": 19,
     "metadata": {},
     "output_type": "execute_result"
    }
   ],
   "source": [
    "bulk_binary_sim_numpy"
   ]
  },
  {
   "cell_type": "code",
   "execution_count": 20,
   "metadata": {
    "colab": {
     "base_uri": "https://localhost:8080/"
    },
    "id": "GdnSn5v3cGKR",
    "outputId": "61b2d3e7-4153-48b0-d29f-95d2ed0537c6"
   },
   "outputs": [
    {
     "data": {
      "text/plain": [
       "array([[0.33333333, 0.33333333, 0.        ],\n",
       "       [0.5       , 0.5       , 0.66666667],\n",
       "       [0.33333333, 0.33333333, 0.        ]])"
      ]
     },
     "execution_count": 20,
     "metadata": {},
     "output_type": "execute_result"
    }
   ],
   "source": [
    "bulk_binary_dist_numpy"
   ]
  },
  {
   "cell_type": "markdown",
   "metadata": {},
   "source": [
    "Let's make sure that the distance is, in fact, $1−similarity$. Subtracting the similarity matrix from a scalar may look odd, but NumPy handles broadcasting nicely."
   ]
  },
  {
   "cell_type": "code",
   "execution_count": 21,
   "metadata": {
    "id": "yVqLYs2mcHL9"
   },
   "outputs": [],
   "source": [
    "assert (np.isclose(bulk_binary_dist_numpy, 1 - bulk_binary_sim_numpy)).all()"
   ]
  },
  {
   "cell_type": "markdown",
   "metadata": {
    "id": "dSV7ls2Oc-LH"
   },
   "source": [
    "You can also use the count Tanimoto variant."
   ]
  },
  {
   "cell_type": "code",
   "execution_count": 22,
   "metadata": {
    "id": "4OVmlVFldBjj"
   },
   "outputs": [],
   "source": [
    "X = np.array(\n",
    "    [\n",
    "        [1, 2, 1],\n",
    "        [0, 1, 3],\n",
    "        [7, 1, 5],\n",
    "    ]\n",
    ")\n",
    "\n",
    "Y = np.array(\n",
    "    [\n",
    "        [9, 0, 3],\n",
    "        [8, 4, 1],\n",
    "        [1, 2, 1],\n",
    "    ]\n",
    ")\n",
    "\n",
    "X_numpy = np.array(X)\n",
    "Y_numpy = np.array(Y)"
   ]
  },
  {
   "cell_type": "code",
   "execution_count": 23,
   "metadata": {
    "id": "EgYpnj7kdGlH"
   },
   "outputs": [],
   "source": [
    "from skfp.distances.tanimoto import (\n",
    "    bulk_tanimoto_count_distance,\n",
    "    bulk_tanimoto_count_similarity,\n",
    ")"
   ]
  },
  {
   "cell_type": "code",
   "execution_count": 24,
   "metadata": {
    "id": "d4Be-8rodKXe"
   },
   "outputs": [],
   "source": [
    "bulk_count_sim_numpy = bulk_tanimoto_count_similarity(X_numpy, Y_numpy)\n",
    "bulk_count_dist_numpy = bulk_tanimoto_count_distance(X_numpy, Y_numpy)"
   ]
  },
  {
   "cell_type": "code",
   "execution_count": 25,
   "metadata": {
    "colab": {
     "base_uri": "https://localhost:8080/"
    },
    "id": "uhiU4f_CdQxW",
    "outputId": "e1b7e218-0e23-45c2-af39-e7fbfea0089c"
   },
   "outputs": [
    {
     "data": {
      "text/plain": [
       "array([[0.14285714, 0.24285714, 1.        ],\n",
       "       [0.0989011 , 0.08333333, 0.45454545],\n",
       "       [0.89655172, 0.71428571, 0.20895522]])"
      ]
     },
     "execution_count": 25,
     "metadata": {},
     "output_type": "execute_result"
    }
   ],
   "source": [
    "bulk_count_sim_numpy"
   ]
  },
  {
   "cell_type": "code",
   "execution_count": 26,
   "metadata": {
    "colab": {
     "base_uri": "https://localhost:8080/"
    },
    "id": "c7Uk1BWjdRBu",
    "outputId": "26a05f0a-4c72-4f24-ea56-c48c9f96760a"
   },
   "outputs": [
    {
     "data": {
      "text/plain": [
       "array([[0.85714286, 0.75714286, 0.        ],\n",
       "       [0.9010989 , 0.91666667, 0.54545455],\n",
       "       [0.10344828, 0.28571429, 0.79104478]])"
      ]
     },
     "execution_count": 26,
     "metadata": {},
     "output_type": "execute_result"
    }
   ],
   "source": [
    "bulk_count_dist_numpy"
   ]
  },
  {
   "cell_type": "code",
   "execution_count": 27,
   "metadata": {
    "id": "szBjBVHUdSUD"
   },
   "outputs": [],
   "source": [
    "assert (np.isclose(bulk_count_dist_numpy, 1 - bulk_count_sim_numpy)).all()"
   ]
  },
  {
   "cell_type": "markdown",
   "metadata": {
    "id": "V2jSyK4TdYd3"
   },
   "source": [
    "You can pass just one array, then the similarities will be computed between its rows."
   ]
  },
  {
   "cell_type": "code",
   "execution_count": 28,
   "metadata": {
    "id": "Jt0wjKx7djie"
   },
   "outputs": [],
   "source": [
    "X = np.array(\n",
    "    [\n",
    "        [1, 1, 1],\n",
    "        [0, 0, 0],\n",
    "        [1, 1, 1],\n",
    "    ]\n",
    ")"
   ]
  },
  {
   "cell_type": "code",
   "execution_count": 29,
   "metadata": {
    "colab": {
     "base_uri": "https://localhost:8080/"
    },
    "id": "Ih1OM0WNfmFv",
    "outputId": "b98fb7a6-ac49-437d-c216-0eade4538c9a"
   },
   "outputs": [
    {
     "data": {
      "text/plain": [
       "array([[1., 0., 1.],\n",
       "       [0., 1., 0.],\n",
       "       [1., 0., 1.]])"
      ]
     },
     "execution_count": 29,
     "metadata": {},
     "output_type": "execute_result"
    }
   ],
   "source": [
    "bulk_bin_sim_one_arr = bulk_tanimoto_binary_similarity(X)\n",
    "bulk_bin_sim_one_arr"
   ]
  },
  {
   "cell_type": "markdown",
   "metadata": {
    "id": "aDPgDQtHf6X3"
   },
   "source": [
    "We expect that passing two copies of the same array will yield the same result\n",
    "as passing only one copy."
   ]
  },
  {
   "cell_type": "code",
   "execution_count": 30,
   "metadata": {
    "colab": {
     "base_uri": "https://localhost:8080/"
    },
    "id": "svoUknUyftDX",
    "outputId": "548134a1-64b5-48bb-be06-38749a6142cf"
   },
   "outputs": [
    {
     "data": {
      "text/plain": [
       "array([[1., 0., 1.],\n",
       "       [0., 1., 0.],\n",
       "       [1., 0., 1.]])"
      ]
     },
     "execution_count": 30,
     "metadata": {},
     "output_type": "execute_result"
    }
   ],
   "source": [
    "bulk_bin_sim_two_arrs = bulk_tanimoto_binary_similarity(X, X)\n",
    "bulk_bin_sim_two_arrs"
   ]
  },
  {
   "cell_type": "code",
   "execution_count": 31,
   "metadata": {
    "id": "H-wTQQymf4i8"
   },
   "outputs": [],
   "source": [
    "assert np.allclose(bulk_bin_sim_one_arr, bulk_bin_sim_two_arrs)"
   ]
  },
  {
   "cell_type": "markdown",
   "metadata": {
    "id": "ugtxVJxSgFIP"
   },
   "source": [
    "Lastly, let's prove that bulk variant produces the same result as calling\n",
    "a standard one in a nested loop. Lets use some real world data."
   ]
  },
  {
   "cell_type": "markdown",
   "metadata": {},
   "source": [
    "First of all, let's transform [smiles](https://en.wikipedia.org/wiki/Simplified_Molecular_Input_Line_Entry_System) into **fingerprints**, effectively turning them into vectors."
   ]
  },
  {
   "cell_type": "code",
   "execution_count": 63,
   "metadata": {
    "id": "U7UsgXGXgaod"
   },
   "outputs": [
    {
     "data": {
      "text/plain": [
       "array([0, 0, 0, ..., 0, 0, 0], dtype=uint32)"
      ]
     },
     "execution_count": 63,
     "metadata": {},
     "output_type": "execute_result"
    }
   ],
   "source": [
    "from skfp.fingerprints import ECFPFingerprint\n",
    "\n",
    "mols_list = [\n",
    "    \"CC(C)CC1=CC=C(C=C1)C(C)C(=O)O\",  # Ibuprofen\n",
    "    \"CN1C=NC2=C1C(=O)N(C(=O)N2C)C\",  # caffeine\n",
    "    \"c1ncccc1[C@@H]2CCCN2C\",  # nicotine\n",
    "    \"C1CC1N2C=C(C(=O)C3=CC(=C(C=C32)N4CCNCC4)F)C(=O)O\",  # Ciprofloxacin\n",
    "    \"CC(=O)CC(C1=CC=CC=C1)C2=C(C3=CC=CC=C3OC2=O)O\",  # Warfarin\n",
    "    \"CC(=O)Nc1ccc(O)cc1\",  # Paracetamol\n",
    "]\n",
    "\n",
    "fp = ECFPFingerprint(count=True)\n",
    "fps = fp.transform(mols_list)\n",
    "\n",
    "fps[1]"
   ]
  },
  {
   "cell_type": "markdown",
   "metadata": {},
   "source": [
    "Notice that the input vectors use **count** data. Let's call the appropriate method."
   ]
  },
  {
   "cell_type": "markdown",
   "metadata": {},
   "source": [
    "Calculate the similarity using nested loops."
   ]
  },
  {
   "cell_type": "code",
   "execution_count": 64,
   "metadata": {
    "id": "8YbFKfihgUKO"
   },
   "outputs": [],
   "source": [
    "manual_pairwise_sim = [\n",
    "    [tanimoto_count_similarity(fps[i], fps[j]) for j in range(len(fps))]\n",
    "    for i in range(len(fps))\n",
    "]"
   ]
  },
  {
   "cell_type": "markdown",
   "metadata": {},
   "source": [
    "And now, let's use a bulk function."
   ]
  },
  {
   "cell_type": "code",
   "execution_count": 34,
   "metadata": {
    "id": "K0ifGaV5hDNU"
   },
   "outputs": [],
   "source": [
    "bulk_sim = bulk_tanimoto_binary_similarity(fps, fps)"
   ]
  },
  {
   "cell_type": "code",
   "execution_count": 35,
   "metadata": {
    "id": "eQpVZwnUiV7M"
   },
   "outputs": [],
   "source": [
    "assert np.allclose(manual_pairwise_sim, bulk_sim)"
   ]
  },
  {
   "cell_type": "markdown",
   "metadata": {
    "id": "b9SizDchhkXe"
   },
   "source": [
    "Let's also check the performance of both approaches."
   ]
  },
  {
   "cell_type": "code",
   "execution_count": 65,
   "metadata": {
    "colab": {
     "base_uri": "https://localhost:8080/"
    },
    "id": "pbGGAxWhhmPt",
    "outputId": "aa6f54cc-5886-4955-c55c-7a671729df41"
   },
   "outputs": [
    {
     "name": "stdout",
     "output_type": "stream",
     "text": [
      "4.47 ms ± 729 µs per loop (mean ± std. dev. of 3 runs, 10 loops each)\n"
     ]
    }
   ],
   "source": [
    "%timeit -r 3 -n 10 [tanimoto_binary_similarity(fps[i], fps[j]) for i in range(len(fps)) for j in range(len(fps))]"
   ]
  },
  {
   "cell_type": "code",
   "execution_count": 66,
   "metadata": {
    "colab": {
     "base_uri": "https://localhost:8080/"
    },
    "id": "9e9AtjEThn6U",
    "outputId": "e227bf9c-187e-4730-e025-d92f10fd9bf1"
   },
   "outputs": [
    {
     "name": "stdout",
     "output_type": "stream",
     "text": [
      "265 µs ± 68.2 µs per loop (mean ± std. dev. of 3 runs, 10 loops each)\n"
     ]
    }
   ],
   "source": [
    "%timeit -r 3 -n 10 [bulk_tanimoto_binary_similarity(fps, fps)]"
   ]
  },
  {
   "cell_type": "markdown",
   "metadata": {},
   "source": [
    "Bulk variant is clearly faster."
   ]
  }
 ],
 "metadata": {
  "colab": {
   "provenance": []
  },
  "kernelspec": {
   "display_name": "Python 3",
   "language": "python",
   "name": "python3"
  },
  "language_info": {
   "codemirror_mode": {
    "name": "ipython",
    "version": 3
   },
   "file_extension": ".py",
   "mimetype": "text/x-python",
   "name": "python",
   "nbconvert_exporter": "python",
   "pygments_lexer": "ipython3",
   "version": "3.11.4"
  }
 },
 "nbformat": 4,
 "nbformat_minor": 0
}
