{
 "cells": [
  {
   "cell_type": "markdown",
   "metadata": {
    "id": "BbzeeN90YCWQ"
   },
   "source": [
    "# Similarity and distance metrics"
   ]
  },
  {
   "cell_type": "markdown",
   "metadata": {
    "id": "335kCek2YCWR"
   },
   "source": [
    "scikit-fingerprints implements multiple ways to measure **similarity** or **distance** between molecules, particularly between their fingerprints. Those similarity measures and distance metrics can be used e.g. in searching, clustering, dimentionality reduction, kNN classification, and more."
   ]
  },
  {
   "cell_type": "markdown",
   "metadata": {},
   "source": [
    "## Similarities and metrics overview"
   ]
  },
  {
   "cell_type": "markdown",
   "metadata": {},
   "source": [
    "In general, we can divide those measures into two groups, depending on their input:\n",
    "1. Working on molecular fingerprints (vectorized molecules). There are specific metrics for binary and count fingerprints.\n",
    "2. Using molecules (RDKit ``Mol`` objects) directly.\n",
    "\n",
    "Most functions are naturally defined as similarities - the higher, the more similar two molecules are. Every similarity also has a corresponding distance function implemented, usually equal to `1 - similarity`.\n",
    "\n",
    "Additionally, for batch computation, e.g. pairwise similarity measurements, every metric also has a bulk function, which works on whole matrices (or lists of molecules)."
   ]
  },
  {
   "cell_type": "markdown",
   "metadata": {},
   "source": [
    "### Fingerprint similarities"
   ]
  },
  {
   "cell_type": "markdown",
   "metadata": {},
   "source": [
    "Similarities and distances working on fingerprint vectors can be defined for binary or count fingerprints. Most similarities, however, can only be defined for binary fingerprints. This distinction is visible in function names, e.g. `tanimoto_binary_similarity` vs `tanimoto_count_similarity`. Most similarity functions have bounded value range, typically $[0, 1]$.\n",
    "\n",
    "There are two major groups of similarities:\n",
    "- only considering \"on\" bits, i.e. 1s in vector representations\n",
    "- including both \"off\" and \"on\" bits\n",
    "\n",
    "For two binary vectors `x` and `y`, we can define four values, which are used to define metrics:\n",
    "\n",
    "  - $a$ – $|x \\cap y|$, the number of common \"on\" bits\n",
    "  - $b$ – the number of positions where $x$ is 1 and $y$ is 0\n",
    "  - $c$ – the number of positions where $x$ is 0 and $y$ is 1\n",
    "  - $d$ – the number of positions where both are 0, the number of common \"off\" bits\n",
    "\n",
    "We can also mark $|x|$ as total number of \"on\" bits (1s) in the $x$ vector.\n",
    "\n",
    "[Tanimoto binary similarity](https://scikit-fingerprints.github.io/scikit-fingerprints/modules/generated/skfp.distances.tanimoto_binary_similarity.html) is the most commonly used similarity measure, defined as:\n",
    "\n",
    "  $$\n",
    "  sim(x, y) = \\frac{|x \\cap y|}{|x \\cup y|} = \\frac{|x \\cap y|}{|x| + |y| - |x \\cap y|} = \\frac{a}{a + b + c}\n",
    "  $$\n",
    "\n",
    "[Tanimoto count similarity](https://scikit-fingerprints.github.io/scikit-fingerprints/modules/generated/skfp.distances.tanimoto_count_similarity.html) is an extension to count vectors, utilizing dot product as a measure of \"common bits\", and vector length instead of just sum of 1s. The larger the dot product, the more similar are two vectors. It is defined as:\n",
    "\n",
    "  $$\n",
    "  sim(x, y) = \\frac{x \\cdot y}{\\|x\\|^2 + \\|y\\|^2 - x \\cdot y}\n",
    "  $$\n",
    "\n",
    "\n",
    "Both variants of Tanimoto similarity use only \"on\" bits. [Rogot-Goldberg similarity](https://scikit-fingerprints.github.io/scikit-fingerprints/modules/generated/skfp.distances.rogot_goldberg_binary_similarity.html) is an example of similarity that includes \"off\" bits information. It works only for binary vectors. It is defined as:\n",
    "\n",
    "  $$\n",
    "  sim(x, y) = \\frac{a}{2 \\times (2a + b + c)} + \\frac{d}{2 \\times (2d + b + c)}\n",
    "  $$\n",
    "\n",
    "Tanimoto similarity in both versions and Rogot-Goldberg similarity have values in range $[0, 1]$."
   ]
  },
  {
   "cell_type": "markdown",
   "metadata": {},
   "source": [
    "Let's see some code examples of Tanimoto similarity usage."
   ]
  },
  {
   "cell_type": "markdown",
   "metadata": {},
   "source": [
    "We can pass the input data as either NumPy or CSR sparse arrays"
   ]
  },
  {
   "cell_type": "code",
   "execution_count": 272,
   "metadata": {},
   "outputs": [],
   "source": [
    "import numpy as np\n",
    "from scipy.sparse import csr_array\n",
    "\n",
    "vec_a = [1, 0, 0]\n",
    "vec_b = [0, 1, 1]\n",
    "\n",
    "vec_a_numpy = np.array(vec_a)\n",
    "vec_b_numpy = np.array(vec_b)\n",
    "\n",
    "vec_a_sparse = csr_array([vec_a])\n",
    "vec_b_sparse = csr_array([vec_b])"
   ]
  },
  {
   "cell_type": "markdown",
   "metadata": {},
   "source": [
    "The distance function will yield the same result, no matter the format"
   ]
  },
  {
   "cell_type": "code",
   "execution_count": 273,
   "metadata": {},
   "outputs": [],
   "source": [
    "from skfp.distances.tanimoto import tanimoto_binary_distance, tanimoto_binary_similarity\n",
    "\n",
    "binary_sim_numpy = tanimoto_binary_similarity(vec_a_numpy, vec_b_numpy)\n",
    "binary_dist_numpy = tanimoto_binary_distance(vec_a_numpy, vec_b_numpy)\n",
    "\n",
    "binary_sim_sparse = tanimoto_binary_similarity(vec_a_sparse, vec_b_sparse)\n",
    "binary_dist_sparse = tanimoto_binary_distance(vec_a_sparse, vec_b_sparse)"
   ]
  },
  {
   "cell_type": "markdown",
   "metadata": {},
   "source": [
    "All \"on\" bits are in different positions. We expect the Tanimoto similarity to be equal to 0."
   ]
  },
  {
   "cell_type": "code",
   "execution_count": 274,
   "metadata": {},
   "outputs": [
    {
     "name": "stdout",
     "output_type": "stream",
     "text": [
      "True\n"
     ]
    }
   ],
   "source": [
    "print(binary_sim_numpy == binary_sim_sparse == 0)"
   ]
  },
  {
   "cell_type": "markdown",
   "metadata": {},
   "source": [
    "Thus, the distance should be equal to 1."
   ]
  },
  {
   "cell_type": "code",
   "execution_count": 275,
   "metadata": {},
   "outputs": [
    {
     "name": "stdout",
     "output_type": "stream",
     "text": [
      "True\n"
     ]
    }
   ],
   "source": [
    "print(binary_dist_numpy == binary_dist_sparse == 1)"
   ]
  },
  {
   "cell_type": "markdown",
   "metadata": {},
   "source": [
    "And the distance should be equal to $1 - similarity$."
   ]
  },
  {
   "cell_type": "code",
   "execution_count": 276,
   "metadata": {},
   "outputs": [
    {
     "name": "stdout",
     "output_type": "stream",
     "text": [
      "True\n",
      "True\n"
     ]
    }
   ],
   "source": [
    "print(binary_dist_numpy == 1 - binary_sim_numpy)\n",
    "print(binary_dist_sparse == 1 - binary_sim_sparse)"
   ]
  },
  {
   "cell_type": "markdown",
   "metadata": {},
   "source": [
    "Count variants work exactly the same way as binary ones."
   ]
  },
  {
   "cell_type": "code",
   "execution_count": 277,
   "metadata": {},
   "outputs": [],
   "source": [
    "import numpy as np\n",
    "from scipy.sparse import csr_array\n",
    "\n",
    "from skfp.distances.tanimoto import tanimoto_count_distance, tanimoto_count_similarity\n",
    "\n",
    "vec_a = [2, 3, 4, 0]\n",
    "vec_b = [2, 3, 4, 2]\n",
    "\n",
    "vec_a_numpy = np.array(vec_a)\n",
    "vec_b_numpy = np.array(vec_b)\n",
    "\n",
    "vec_a_sparse = csr_array([vec_a])\n",
    "vec_b_sparse = csr_array([vec_b])"
   ]
  },
  {
   "cell_type": "code",
   "execution_count": 278,
   "metadata": {},
   "outputs": [],
   "source": [
    "count_sim_numpy = tanimoto_count_similarity(vec_a_numpy, vec_b_numpy)\n",
    "count_dist_numpy = tanimoto_count_distance(vec_a_numpy, vec_b_numpy)\n",
    "\n",
    "count_sim_sparse = tanimoto_count_similarity(vec_a_sparse, vec_b_sparse)\n",
    "count_dist_sparse = tanimoto_count_distance(vec_a_sparse, vec_b_sparse)"
   ]
  },
  {
   "cell_type": "code",
   "execution_count": 279,
   "metadata": {},
   "outputs": [
    {
     "name": "stdout",
     "output_type": "stream",
     "text": [
      "True\n"
     ]
    }
   ],
   "source": [
    "print(count_sim_numpy == count_sim_sparse == 0.8787878787878788)"
   ]
  },
  {
   "cell_type": "code",
   "execution_count": 280,
   "metadata": {},
   "outputs": [
    {
     "name": "stdout",
     "output_type": "stream",
     "text": [
      "True\n"
     ]
    }
   ],
   "source": [
    "print(count_dist_numpy == count_dist_sparse == 0.12121212121212122)"
   ]
  },
  {
   "cell_type": "code",
   "execution_count": 281,
   "metadata": {},
   "outputs": [
    {
     "name": "stdout",
     "output_type": "stream",
     "text": [
      "True\n",
      "True\n"
     ]
    }
   ],
   "source": [
    "print(count_dist_numpy == 1 - count_sim_numpy)\n",
    "print(count_dist_sparse == 1 - count_sim_sparse)"
   ]
  },
  {
   "cell_type": "markdown",
   "metadata": {},
   "source": [
    "### Molecule similarities"
   ]
  },
  {
   "cell_type": "markdown",
   "metadata": {},
   "source": [
    "Some similarities include molecule structure directly in their calculation. Those can be sometimes more flexible, as they don't lose any information during the fingerprint calculation step.\n",
    "\n",
    "[Fraggle similarity](https://scikit-fingerprints.github.io/scikit-fingerprints/modules/generated/skfp.distances.fraggle_similarity.html) is designed to be less sensitive to small changes in the middle of molecule, compared to fingerprint-based measures. It looks more on the \"overall shape similarity\" of molecules. Its calculation consists of a few steps:\n",
    "- fragment molecule into \"interesting\" substructures by acyclic and ring cuts, leaving only “large” parts of a molecule (>60%)\n",
    "- compare fragments with Tversky similarity, keep only appropriately similar ones\n",
    "- compure [RDKit fingerprints](https://scikit-fingerprints.github.io/scikit-fingerprints/modules/generated/skfp.fingerprints.RDKitFingerprint.html) with path length 5, compare with Tanimoto similarity\n",
    "- largest Tanimoto similarity is the Fraggle similarity value\n",
    "\n",
    "This measure is asymmetric, i.e. `sim(mol_a, mol_b)` can be potentially quite different from `sim(mol_b, mol_a)`. Its value range is $[0, 1]$.\n",
    "\n",
    "[Maximum Common Substructure (MCS) similarity](https://scikit-fingerprints.github.io/scikit-fingerprints/modules/generated/skfp.distances.mcs_similarity.html) checks the size of the maximum common substructure (MCS) between two molecules as their structural overlap, with the formula:\n",
    "\n",
    "$$\n",
    "sim(mol_a, mol_b) = \\frac{numAtoms(MCS(mol_a, mol_b))}{numAtoms(mol_a) + numAtoms(mol_b) - numAtoms(MCS(mol_a, mol_b))}\n",
    "$$\n",
    "\n",
    "It also penalizes difference in molecule sizes. Its value range is $[0, 1]$."
   ]
  },
  {
   "cell_type": "markdown",
   "metadata": {},
   "source": [
    "In this case, we use RDKit ``Mol`` objects rather than vectorized data. First, prepare the query and reference molecules."
   ]
  },
  {
   "cell_type": "code",
   "execution_count": 282,
   "metadata": {},
   "outputs": [],
   "source": [
    "from rdkit.Chem import MolFromSmiles\n",
    "\n",
    "mol_query = MolFromSmiles(\"COc1cc(CN2CCC(NC(=O)c3cncc(C)c3)CC2)c(OC)c2ccccc12\")\n",
    "mol_ref = MolFromSmiles(\"COc1ccccc1\")"
   ]
  },
  {
   "cell_type": "markdown",
   "metadata": {},
   "source": [
    "Let's call fraggle function. The default Tversky threshold is 0.8."
   ]
  },
  {
   "cell_type": "code",
   "execution_count": 283,
   "metadata": {
    "id": "X5VDP2qTYCWV"
   },
   "outputs": [],
   "source": [
    "from skfp.distances.fraggle import fraggle_distance, fraggle_similarity\n",
    "\n",
    "fraggle_sim = fraggle_similarity(mol_query, mol_ref)\n",
    "fraggle_dist = fraggle_distance(mol_query, mol_ref)"
   ]
  },
  {
   "cell_type": "markdown",
   "metadata": {},
   "source": [
    "Values fall within range $[0, 1]$, so we expect the distance to be $1 - similarity$."
   ]
  },
  {
   "cell_type": "code",
   "execution_count": 284,
   "metadata": {
    "id": "OQNn3USQYCWW"
   },
   "outputs": [
    {
     "name": "stdout",
     "output_type": "stream",
     "text": [
      "True\n",
      "True\n",
      "True\n"
     ]
    }
   ],
   "source": [
    "print(fraggle_sim == 0.1640625)\n",
    "print(fraggle_dist == 0.8359375)\n",
    "print(fraggle_dist == 1 - fraggle_sim)"
   ]
  },
  {
   "cell_type": "markdown",
   "metadata": {
    "id": "Shm5FyoRYCWW"
   },
   "source": [
    "## kNN"
   ]
  },
  {
   "cell_type": "markdown",
   "metadata": {
    "id": "bYj_wtiYj5MS"
   },
   "source": [
    "We aim to make SKFP fully compatible with Scikit-Learn. As such, you can use similarity metrics in your machine learning pipelines, for example, as a metric in the k-Nearest Neighbors algorithm."
   ]
  },
  {
   "cell_type": "markdown",
   "metadata": {},
   "source": [
    "Prepare the data and compute the distance using the SKFP function."
   ]
  },
  {
   "cell_type": "code",
   "execution_count": 285,
   "metadata": {},
   "outputs": [
    {
     "data": {
      "text/plain": [
       "0.6666666666666667"
      ]
     },
     "execution_count": 285,
     "metadata": {},
     "output_type": "execute_result"
    }
   ],
   "source": [
    "from sklearn.neighbors import NearestNeighbors\n",
    "\n",
    "vec_a = np.array([[0, 1, 0, 1]])\n",
    "vec_b = np.array([[0, 1, 1, 0]])\n",
    "skfp_dist = tanimoto_binary_distance(vec_a[0], vec_b[0])\n",
    "\n",
    "skfp_dist"
   ]
  },
  {
   "cell_type": "markdown",
   "metadata": {},
   "source": [
    "Now, let's compare the result with Scikit-Learn's kNN implementation utilizing the SKFP metric."
   ]
  },
  {
   "cell_type": "code",
   "execution_count": 286,
   "metadata": {
    "id": "dU1_4arDlidQ"
   },
   "outputs": [
    {
     "data": {
      "text/plain": [
       "array([[0.66666667]])"
      ]
     },
     "execution_count": 286,
     "metadata": {},
     "output_type": "execute_result"
    }
   ],
   "source": [
    "nn = NearestNeighbors(n_neighbors=1, metric=tanimoto_binary_distance)\n",
    "nn.fit(vec_a)\n",
    "distances, _ = nn.kneighbors(vec_b)\n",
    "\n",
    "distances"
   ]
  },
  {
   "cell_type": "markdown",
   "metadata": {},
   "source": [
    "NearestNeighbors returns a matrix, so we'll need to extract a single value for comparison."
   ]
  },
  {
   "cell_type": "code",
   "execution_count": 287,
   "metadata": {},
   "outputs": [
    {
     "name": "stdout",
     "output_type": "stream",
     "text": [
      "True\n"
     ]
    }
   ],
   "source": [
    "sklearn_dist = distances[0][0]\n",
    "print(np.isclose(skfp_dist, sklearn_dist))"
   ]
  },
  {
   "cell_type": "markdown",
   "metadata": {
    "id": "L_QHvOIUYCWW"
   },
   "source": [
    "## Bulk variants"
   ]
  },
  {
   "cell_type": "markdown",
   "metadata": {
    "id": "ytahLYPpYCWW"
   },
   "source": [
    "If you need to quickly compute similarity or distance between many vectors, you may represent them as an array and pass it to **bulk** variant of a function. In the example below, the similarity is computed between i-th rows and j-th columns of both arrays.\n",
    "\n",
    "Keep in mind that bulk variants do not support sparse arrays, as they are not valid data type for Numba, which we use for accelerating the computations.\n",
    "\n",
    "Bulk variants are equivalent to scikit-learn's **pairwise distances**."
   ]
  },
  {
   "cell_type": "code",
   "execution_count": 288,
   "metadata": {
    "id": "fUtOB4EAYCWW"
   },
   "outputs": [],
   "source": [
    "X = np.array(\n",
    "    [\n",
    "        [1, 1, 1],\n",
    "        [0, 0, 1],\n",
    "        [1, 1, 1],\n",
    "    ]\n",
    ")\n",
    "\n",
    "Y = np.array(\n",
    "    [\n",
    "        [1, 0, 1],\n",
    "        [0, 1, 1],\n",
    "        [1, 1, 1],\n",
    "    ]\n",
    ")\n",
    "\n",
    "X_numpy = np.array(X)\n",
    "Y_numpy = np.array(Y)"
   ]
  },
  {
   "cell_type": "code",
   "execution_count": 289,
   "metadata": {
    "id": "g6JvBvgzYCWW"
   },
   "outputs": [],
   "source": [
    "from skfp.distances.tanimoto import (\n",
    "    bulk_tanimoto_binary_distance,\n",
    "    bulk_tanimoto_binary_similarity,\n",
    ")"
   ]
  },
  {
   "cell_type": "code",
   "execution_count": 290,
   "metadata": {
    "id": "ElBquJpaYCWX"
   },
   "outputs": [],
   "source": [
    "bulk_binary_sim_numpy = bulk_tanimoto_binary_similarity(X_numpy, Y_numpy)\n",
    "bulk_binary_dist_numpy = bulk_tanimoto_binary_distance(X_numpy, Y_numpy)"
   ]
  },
  {
   "cell_type": "code",
   "execution_count": 291,
   "metadata": {
    "colab": {
     "base_uri": "https://localhost:8080/"
    },
    "id": "_fzRu1LdcABo",
    "outputId": "41a02ee2-01ee-4173-9a9d-a5a8b6012e3a"
   },
   "outputs": [
    {
     "data": {
      "text/plain": [
       "array([[0.66666667, 0.66666667, 1.        ],\n",
       "       [0.5       , 0.5       , 0.33333333],\n",
       "       [0.66666667, 0.66666667, 1.        ]])"
      ]
     },
     "execution_count": 291,
     "metadata": {},
     "output_type": "execute_result"
    }
   ],
   "source": [
    "bulk_binary_sim_numpy"
   ]
  },
  {
   "cell_type": "code",
   "execution_count": 292,
   "metadata": {
    "colab": {
     "base_uri": "https://localhost:8080/"
    },
    "id": "GdnSn5v3cGKR",
    "outputId": "61b2d3e7-4153-48b0-d29f-95d2ed0537c6"
   },
   "outputs": [
    {
     "data": {
      "text/plain": [
       "array([[0.33333333, 0.33333333, 0.        ],\n",
       "       [0.5       , 0.5       , 0.66666667],\n",
       "       [0.33333333, 0.33333333, 0.        ]])"
      ]
     },
     "execution_count": 292,
     "metadata": {},
     "output_type": "execute_result"
    }
   ],
   "source": [
    "bulk_binary_dist_numpy"
   ]
  },
  {
   "cell_type": "markdown",
   "metadata": {},
   "source": [
    "Let's make sure that the distance is, in fact, $1−similarity$. Subtracting the similarity matrix from a scalar may look odd, but NumPy handles broadcasting nicely."
   ]
  },
  {
   "cell_type": "code",
   "execution_count": 293,
   "metadata": {
    "id": "yVqLYs2mcHL9"
   },
   "outputs": [
    {
     "name": "stdout",
     "output_type": "stream",
     "text": [
      "True\n"
     ]
    }
   ],
   "source": [
    "print((np.isclose(bulk_binary_dist_numpy, 1 - bulk_binary_sim_numpy)).all())"
   ]
  },
  {
   "cell_type": "markdown",
   "metadata": {
    "id": "dSV7ls2Oc-LH"
   },
   "source": [
    "You can also use the count Tanimoto variant."
   ]
  },
  {
   "cell_type": "code",
   "execution_count": 294,
   "metadata": {
    "id": "4OVmlVFldBjj"
   },
   "outputs": [],
   "source": [
    "X = np.array(\n",
    "    [\n",
    "        [1, 2, 1],\n",
    "        [0, 1, 3],\n",
    "        [7, 1, 5],\n",
    "    ]\n",
    ")\n",
    "\n",
    "Y = np.array(\n",
    "    [\n",
    "        [9, 0, 3],\n",
    "        [8, 4, 1],\n",
    "        [1, 2, 1],\n",
    "    ]\n",
    ")\n",
    "\n",
    "X_numpy = np.array(X)\n",
    "Y_numpy = np.array(Y)"
   ]
  },
  {
   "cell_type": "code",
   "execution_count": 295,
   "metadata": {
    "id": "EgYpnj7kdGlH"
   },
   "outputs": [],
   "source": [
    "from skfp.distances.tanimoto import (\n",
    "    bulk_tanimoto_count_distance,\n",
    "    bulk_tanimoto_count_similarity,\n",
    ")"
   ]
  },
  {
   "cell_type": "code",
   "execution_count": 296,
   "metadata": {
    "id": "d4Be-8rodKXe"
   },
   "outputs": [],
   "source": [
    "bulk_count_sim_numpy = bulk_tanimoto_count_similarity(X_numpy, Y_numpy)\n",
    "bulk_count_dist_numpy = bulk_tanimoto_count_distance(X_numpy, Y_numpy)"
   ]
  },
  {
   "cell_type": "code",
   "execution_count": 297,
   "metadata": {
    "colab": {
     "base_uri": "https://localhost:8080/"
    },
    "id": "uhiU4f_CdQxW",
    "outputId": "e1b7e218-0e23-45c2-af39-e7fbfea0089c"
   },
   "outputs": [
    {
     "data": {
      "text/plain": [
       "array([[0.14285714, 0.24285714, 1.        ],\n",
       "       [0.0989011 , 0.08333333, 0.45454545],\n",
       "       [0.89655172, 0.71428571, 0.20895522]])"
      ]
     },
     "execution_count": 297,
     "metadata": {},
     "output_type": "execute_result"
    }
   ],
   "source": [
    "bulk_count_sim_numpy"
   ]
  },
  {
   "cell_type": "code",
   "execution_count": 298,
   "metadata": {
    "colab": {
     "base_uri": "https://localhost:8080/"
    },
    "id": "c7Uk1BWjdRBu",
    "outputId": "26a05f0a-4c72-4f24-ea56-c48c9f96760a"
   },
   "outputs": [
    {
     "data": {
      "text/plain": [
       "array([[0.85714286, 0.75714286, 0.        ],\n",
       "       [0.9010989 , 0.91666667, 0.54545455],\n",
       "       [0.10344828, 0.28571429, 0.79104478]])"
      ]
     },
     "execution_count": 298,
     "metadata": {},
     "output_type": "execute_result"
    }
   ],
   "source": [
    "bulk_count_dist_numpy"
   ]
  },
  {
   "cell_type": "code",
   "execution_count": 299,
   "metadata": {
    "id": "szBjBVHUdSUD"
   },
   "outputs": [
    {
     "name": "stdout",
     "output_type": "stream",
     "text": [
      "True\n"
     ]
    }
   ],
   "source": [
    "print((np.isclose(bulk_count_dist_numpy, 1 - bulk_count_sim_numpy)).all())"
   ]
  },
  {
   "cell_type": "markdown",
   "metadata": {
    "id": "V2jSyK4TdYd3"
   },
   "source": [
    "You can pass just one array, then the similarities will be computed between its rows."
   ]
  },
  {
   "cell_type": "code",
   "execution_count": 300,
   "metadata": {
    "id": "Jt0wjKx7djie"
   },
   "outputs": [],
   "source": [
    "X = np.array(\n",
    "    [\n",
    "        [1, 1, 1],\n",
    "        [0, 0, 0],\n",
    "        [1, 1, 1],\n",
    "    ]\n",
    ")"
   ]
  },
  {
   "cell_type": "code",
   "execution_count": 301,
   "metadata": {
    "colab": {
     "base_uri": "https://localhost:8080/"
    },
    "id": "Ih1OM0WNfmFv",
    "outputId": "b98fb7a6-ac49-437d-c216-0eade4538c9a"
   },
   "outputs": [
    {
     "data": {
      "text/plain": [
       "array([[1., 0., 1.],\n",
       "       [0., 1., 0.],\n",
       "       [1., 0., 1.]])"
      ]
     },
     "execution_count": 301,
     "metadata": {},
     "output_type": "execute_result"
    }
   ],
   "source": [
    "bulk_bin_sim_one_arr = bulk_tanimoto_binary_similarity(X)\n",
    "bulk_bin_sim_one_arr"
   ]
  },
  {
   "cell_type": "markdown",
   "metadata": {
    "id": "aDPgDQtHf6X3"
   },
   "source": [
    "We expect that passing two copies of the same array will yield the same result\n",
    "as passing only one copy."
   ]
  },
  {
   "cell_type": "code",
   "execution_count": 302,
   "metadata": {
    "colab": {
     "base_uri": "https://localhost:8080/"
    },
    "id": "svoUknUyftDX",
    "outputId": "548134a1-64b5-48bb-be06-38749a6142cf"
   },
   "outputs": [
    {
     "data": {
      "text/plain": [
       "array([[1., 0., 1.],\n",
       "       [0., 1., 0.],\n",
       "       [1., 0., 1.]])"
      ]
     },
     "execution_count": 302,
     "metadata": {},
     "output_type": "execute_result"
    }
   ],
   "source": [
    "bulk_bin_sim_two_arrs = bulk_tanimoto_binary_similarity(X, X)\n",
    "bulk_bin_sim_two_arrs"
   ]
  },
  {
   "cell_type": "code",
   "execution_count": 303,
   "metadata": {
    "id": "H-wTQQymf4i8"
   },
   "outputs": [
    {
     "name": "stdout",
     "output_type": "stream",
     "text": [
      "True\n"
     ]
    }
   ],
   "source": [
    "print(np.allclose(bulk_bin_sim_one_arr, bulk_bin_sim_two_arrs))"
   ]
  },
  {
   "cell_type": "markdown",
   "metadata": {
    "id": "ugtxVJxSgFIP"
   },
   "source": [
    "Lastly, let's prove that bulk variant produces the same result as calling\n",
    "a standard one in a nested loop. Lets use some real world data."
   ]
  },
  {
   "cell_type": "markdown",
   "metadata": {},
   "source": [
    "First of all, let's transform [smiles](https://en.wikipedia.org/wiki/Simplified_Molecular_Input_Line_Entry_System) into **fingerprints**, effectively turning them into vectors."
   ]
  },
  {
   "cell_type": "code",
   "execution_count": 304,
   "metadata": {
    "id": "U7UsgXGXgaod"
   },
   "outputs": [
    {
     "data": {
      "text/plain": [
       "array([0, 0, 0, ..., 0, 0, 0], dtype=uint32)"
      ]
     },
     "execution_count": 304,
     "metadata": {},
     "output_type": "execute_result"
    }
   ],
   "source": [
    "from skfp.fingerprints import ECFPFingerprint\n",
    "\n",
    "mols_list = [\n",
    "    \"CC(C)CC1=CC=C(C=C1)C(C)C(=O)O\",  # Ibuprofen\n",
    "    \"CN1C=NC2=C1C(=O)N(C(=O)N2C)C\",  # caffeine\n",
    "    \"c1ncccc1[C@@H]2CCCN2C\",  # nicotine\n",
    "    \"C1CC1N2C=C(C(=O)C3=CC(=C(C=C32)N4CCNCC4)F)C(=O)O\",  # Ciprofloxacin\n",
    "    \"CC(=O)CC(C1=CC=CC=C1)C2=C(C3=CC=CC=C3OC2=O)O\",  # Warfarin\n",
    "    \"CC(=O)Nc1ccc(O)cc1\",  # Paracetamol\n",
    "    \"CCC[C@@H](C(=O)C(=O)NC1CC1)NC(=O)[C@@H]2[C@H]3CCC[C@H]\"  # Telaprevir\n",
    "    \"3CN2C(=O)[C@H](C(C)(C)C)NC(=O)[C@H](C4CCCCC4)NC(=O)c5cnccn5\",  # Atorvastatin\n",
    "    \"O=C(O)C[C@H](O)C[C@H](O)CCn2c(c(c(c2c1ccc(F)cc1)c3ccccc3)C(=O)Nc4ccccc4)C(C)C\",  # Telmisartan\n",
    "    \"CS(=O)(=O)CCNCc1ccc(o1)c2ccc3c(c2)c(ncn3)Nc4ccc(c(c4)Cl)OCc5cccc(c5)F\",  # Lapatinib\n",
    "    \"O=C(N)C(C)(C)CNC(=O)[C@H](C(C)C)C[C@H](O)[C@@H](N)C[C@@H](C(C)C)Cc1cc(OCCCOC)c(OC)cc1\",  # Aliskiren\n",
    "    \"C=12CCC=3C=C(C=C(C3[C@H](C1N=CC(=C2)Br)C4CCN(CC4)C(=O)CC5CCN(CC5)C(N)=O)Br)Cl\",  # Ergotamin\n",
    "    r\"CN1CCN(CC1)/N=C/c2c(O)c3c5C(=O)[C@@]4(C)O/C=C/[C@H](OC)[C@@H](C)[C@@H](OC(C)=O)[C@H](C)[C@H](O)[C@H](C)[C@@H](O)[C@@H](C)\\C=C\\C=C(\\C)C(=O)Nc2c(O)c3c(O)c(C)c5O4\",  # Rinfampin\n",
    "    \"S(c1cc(c(O)c(c1)C(C)(C)C)C(C)(C)C)C(Sc2cc(c(O)c(c2)C(C)(C)C)C(C)(C)C)(C)C\",  # Probucol\n",
    "    \"O([C@@H]2[C@@H](O)[C@H](O[C@H]1O[C@H](CN)[C@@H](O)[C@H](O)[C@H]1O)[C@@H](N)C[C@H]2N)[C@H]3O[C@@H]([C@@H](O)[C@H](N)[C@H]3O)CO\",  # Kanamycin\n",
    "]\n",
    "\n",
    "fp = ECFPFingerprint(count=True)\n",
    "fps = fp.transform(mols_list)\n",
    "\n",
    "fps[1]"
   ]
  },
  {
   "cell_type": "markdown",
   "metadata": {},
   "source": [
    "Notice that the input vectors use **count** data. Let's call the appropriate method."
   ]
  },
  {
   "cell_type": "markdown",
   "metadata": {},
   "source": [
    "Calculate the similarity using nested loops."
   ]
  },
  {
   "cell_type": "code",
   "execution_count": 305,
   "metadata": {
    "id": "8YbFKfihgUKO"
   },
   "outputs": [],
   "source": [
    "manual_pairwise_sim = [\n",
    "    [tanimoto_count_similarity(fps[i], fps[j]) for j in range(len(fps))]\n",
    "    for i in range(len(fps))\n",
    "]"
   ]
  },
  {
   "cell_type": "markdown",
   "metadata": {},
   "source": [
    "And now, let's use a bulk function."
   ]
  },
  {
   "cell_type": "code",
   "execution_count": 306,
   "metadata": {
    "id": "K0ifGaV5hDNU"
   },
   "outputs": [],
   "source": [
    "bulk_sim = bulk_tanimoto_count_similarity(fps, fps)"
   ]
  },
  {
   "cell_type": "markdown",
   "metadata": {},
   "source": [
    "Do nested loops and the bulk function yield the same result?"
   ]
  },
  {
   "cell_type": "code",
   "execution_count": 307,
   "metadata": {
    "id": "eQpVZwnUiV7M"
   },
   "outputs": [
    {
     "name": "stdout",
     "output_type": "stream",
     "text": [
      "True\n"
     ]
    }
   ],
   "source": [
    "print(np.allclose(manual_pairwise_sim, bulk_sim))"
   ]
  },
  {
   "cell_type": "markdown",
   "metadata": {
    "id": "b9SizDchhkXe"
   },
   "source": [
    "Let's also check the performance of both approaches."
   ]
  },
  {
   "cell_type": "code",
   "execution_count": 308,
   "metadata": {
    "colab": {
     "base_uri": "https://localhost:8080/"
    },
    "id": "pbGGAxWhhmPt",
    "outputId": "aa6f54cc-5886-4955-c55c-7a671729df41"
   },
   "outputs": [
    {
     "name": "stdout",
     "output_type": "stream",
     "text": [
      "14.4 ms ± 2.03 ms per loop (mean ± std. dev. of 3 runs, 10 loops each)\n"
     ]
    }
   ],
   "source": [
    "%timeit -r 3 -n 10 [tanimoto_count_similarity(fps[i], fps[j]) for i in range(len(fps)) for j in range(len(fps))]"
   ]
  },
  {
   "cell_type": "code",
   "execution_count": 309,
   "metadata": {
    "colab": {
     "base_uri": "https://localhost:8080/"
    },
    "id": "9e9AtjEThn6U",
    "outputId": "e227bf9c-187e-4730-e025-d92f10fd9bf1"
   },
   "outputs": [
    {
     "name": "stdout",
     "output_type": "stream",
     "text": [
      "675 µs ± 64.3 µs per loop (mean ± std. dev. of 3 runs, 10 loops each)\n"
     ]
    }
   ],
   "source": [
    "%timeit -r 3 -n 10 [bulk_tanimoto_count_similarity(fps, fps)]"
   ]
  },
  {
   "cell_type": "markdown",
   "metadata": {},
   "source": [
    "Bulk variant is clearly faster."
   ]
  }
 ],
 "metadata": {
  "colab": {
   "provenance": []
  },
  "kernelspec": {
   "display_name": "Python 3 (ipykernel)",
   "language": "python",
   "name": "python3"
  },
  "language_info": {
   "codemirror_mode": {
    "name": "ipython",
    "version": 3
   },
   "file_extension": ".py",
   "mimetype": "text/x-python",
   "name": "python",
   "nbconvert_exporter": "python",
   "pygments_lexer": "ipython3",
   "version": "3.10.16"
  }
 },
 "nbformat": 4,
 "nbformat_minor": 4
}
